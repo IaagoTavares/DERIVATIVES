{
 "cells": [
  {
   "cell_type": "code",
   "execution_count": null,
   "metadata": {},
   "outputs": [],
   "source": [
    "import numpy as np\n",
    "import matplotlib.pyplot as plt"
   ]
  },
  {
   "cell_type": "code",
   "execution_count": null,
   "metadata": {},
   "outputs": [],
   "source": [
    "\n",
    "\n",
    "def butterfly_spread(call_strike_low, call_strike_high, premium, spot_price, num_contracts):\n",
    "    # Geração dos preços possíveis\n",
    "    prices = np.arange(call_strike_low - 10, call_strike_high + 10, 1)\n",
    "\n",
    "    # Payoff da opção de compra comprada\n",
    "    long_call_payoff = np.maximum(prices - call_strike_low, 0) - premium\n",
    "\n",
    "    # Payoff da opção de compra vendida (duas vezes)\n",
    "    short_call_payoff = 2 * (np.maximum(prices - call_strike_high, 0) - premium)\n",
    "\n",
    "    # Payoff total\n",
    "    payoff = long_call_payoff + short_call_payoff\n",
    "\n",
    "    # Lucro e perda total\n",
    "    pnl = payoff * num_contracts\n",
    "\n",
    "    # Gráfico\n",
    "    plt.figure(figsize=(10, 6))\n",
    "    plt.plot(prices, pnl, label='Butterfly Spread Payoff')\n",
    "    plt.axhline(0, color='black', linestyle='--', linewidth=1, label='Breakeven')\n",
    "    plt.title('Butterfly Spread Payoff Diagram')\n",
    "    plt.xlabel('Spot Price')\n",
    "    plt.ylabel('Profit/Loss')\n",
    "    plt.legend()\n",
    "    plt.grid(True)\n",
    "    plt.show()\n",
    "\n",
    "# Parâmetros\n",
    "call_strike_low = 50\n",
    "call_strike_high = 70\n",
    "premium = 2\n",
    "spot_price = 60\n",
    "num_contracts = 1\n",
    "\n",
    "# Chamada da função\n",
    "butterfly_spread(call_strike_low, call_strike_high, premium, spot_price, num_contracts)\n"
   ]
  }
 ],
 "metadata": {
  "language_info": {
   "name": "python"
  }
 },
 "nbformat": 4,
 "nbformat_minor": 2
}
